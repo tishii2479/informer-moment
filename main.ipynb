{
 "cells": [
  {
   "cell_type": "code",
   "execution_count": 1,
   "metadata": {},
   "outputs": [],
   "source": [
    "\"\"\"\n",
    "実行時に設定するパラメータ\n",
    "\"\"\"\n",
    "\n",
    "# Informerの学習パラメータ\n",
    "# Informerを学習するときに使用したパラメータの文字列をここで代入する\n",
    "ARG_STR = \"--model informer --data ETTh1 --attn prob --freq h --checkpoints 'checkpoints/ETTh1_sample30_window30' --features S  --e_layers 1  --d_layers 1 --dropout 0.3 --learning_rate 0.0001 --embed timeF\"\n",
    "# ARG_STR = \"--model informer --data NaturalGas --root_path './Informer2020/data/NaturalGas/' --data_path combined_data.csv --features S --attn prob --freq h --checkpoints 'checkpoints/NaturalGas_sample30_window30' --e_layers 1  --d_layers 1 --dropout 0.3 --learning_rate 0.0001 --embed timeF\"\n",
    "\n",
    "# 学習済みのInformerモデルが保存されているパス\n",
    "INFORMER_CKPT_PATH = \"checkpoints/naturalgas.pth\""
   ]
  },
  {
   "cell_type": "code",
   "execution_count": 2,
   "metadata": {
    "id": "Fcd3wr3l3rnn"
   },
   "outputs": [],
   "source": [
    "import sys\n",
    "\n",
    "sys.path.append(\"Informer2020\")\n",
    "\n",
    "import argparse\n",
    "import random\n",
    "import tqdm\n",
    "import numpy as np\n",
    "import torch\n",
    "import pandas as pd\n",
    "import os\n",
    "\n",
    "import dataset\n",
    "from model.informer_model import InformerModel\n",
    "from model.model import Model\n",
    "from model.moment_model import MomentModel\n",
    "from propose import ProposedModelWithMoe, ProposedModel\n",
    "from evaluation import evaluate_mse, evaluate_nll\n",
    "\n",
    "from main_informer import parse_args"
   ]
  },
  {
   "cell_type": "code",
   "execution_count": 3,
   "metadata": {
    "id": "kHpNHeCC3rnq"
   },
   "outputs": [],
   "source": [
    "def set_seed(seed: int) -> None:\n",
    "    # random\n",
    "    random.seed(seed)\n",
    "\n",
    "    # numpy\n",
    "    np.random.seed(seed)\n",
    "\n",
    "    # pytorch\n",
    "    torch.manual_seed(seed)\n",
    "    torch.cuda.manual_seed_all(seed)\n",
    "    torch.mps.manual_seed(seed)\n",
    "    torch.backends.cudnn.deterministic = True\n",
    "\n",
    "\n",
    "def load_moment_model(args: argparse.Namespace) -> Model:\n",
    "    return MomentModel(param=\"AutonLab/MOMENT-1-large\", pred_len=args.pred_len)\n",
    "\n",
    "\n",
    "def load_moment_model_finetuned(\n",
    "    args: argparse.Namespace,\n",
    "    train_dataset: torch.utils.data.Dataset,\n",
    "    valid_dataset: torch.utils.data.Dataset,\n",
    ") -> Model:\n",
    "    model: MomentModel = load_moment_model(args=args)\n",
    "    model.fine_tuning(\n",
    "        train_dataset=train_dataset, valid_dataset=valid_dataset, args=args\n",
    "    )\n",
    "    return model\n",
    "\n",
    "\n",
    "def load_informer_model(args: argparse.Namespace) -> Model:\n",
    "    return InformerModel(args, checkpoint_path=INFORMER_CKPT_PATH)\n",
    "\n",
    "\n",
    "def load_proposed_model(moment_model: Model, informer_model: Model) -> Model:\n",
    "    model = ProposedModel(moment_model=moment_model, informer_model=informer_model)\n",
    "    return model\n",
    "\n",
    "\n",
    "def load_proposed_model_with_moe(\n",
    "    moment_model: Model,\n",
    "    informer_model: Model,\n",
    "    input_size: int,\n",
    "    train_dataset: torch.utils.data.Dataset,\n",
    "    valid_dataset: torch.utils.data.Dataset,\n",
    "    args: argparse.Namespace,\n",
    ") -> Model:\n",
    "    model = ProposedModelWithMoe(\n",
    "        moment_model=moment_model,\n",
    "        informer_model=informer_model,\n",
    "        input_size=input_size,\n",
    "    )\n",
    "    model.train(train_dataset=train_dataset, valid_dataset=valid_dataset, args=args)\n",
    "    return model"
   ]
  },
  {
   "cell_type": "code",
   "execution_count": 4,
   "metadata": {
    "id": "bcEvNf_e3rnr"
   },
   "outputs": [
    {
     "name": "stdout",
     "output_type": "stream",
     "text": [
      "args: Namespace(model='informer', data='ETTh1', root_path='./data/ETT/', data_path='ETTh1.csv', features='S', target='OT', freq='h', checkpoints='checkpoints/ETTh1_sample30_window30', seq_len=96, label_len=48, pred_len=24, enc_in=1, dec_in=1, c_out=1, d_model=512, n_heads=8, e_layers=1, d_layers=1, s_layers=[3, 2, 1], d_ff=2048, factor=5, padding=0, distil=True, dropout=0.3, attn='prob', embed='timeF', activation='gelu', output_attention=False, do_predict=False, mix=True, cols=None, num_workers=0, itr=2, train_epochs=6, batch_size=32, patience=3, learning_rate=0.0001, des='test', loss='mse', lradj='type1', use_amp=False, inverse=False, use_gpu=False, gpu=0, use_multi_gpu=False, devices='0,1,2,3', detail_freq='h')\n",
      "train 8521\n",
      "val 2857\n",
      "test 2857\n"
     ]
    }
   ],
   "source": [
    "set_seed(0)\n",
    "\n",
    "args = parse_args(ARG_STR)\n",
    "save_file_name = args.checkpoints\n",
    "if not os.path.exists(save_file_name):\n",
    "    os.mkdir(save_file_name)\n",
    "print(\"args:\", args)\n",
    "\n",
    "train_dataset, valid_dataset, test_dataset = dataset.load_dataset(args=args)\n",
    "input_size = args.seq_len\n",
    "\n",
    "moment_model = load_moment_model(args=args)\n",
    "informer_model = load_informer_model(args=args)\n",
    "proposed_model = load_proposed_model(moment_model, informer_model)"
   ]
  },
  {
   "cell_type": "code",
   "execution_count": null,
   "metadata": {},
   "outputs": [],
   "source": [
    "proposed_model_with_moe = load_proposed_model_with_moe(\n",
    "    moment_model, informer_model, input_size, train_dataset, valid_dataset, args\n",
    ")"
   ]
  },
  {
   "cell_type": "code",
   "execution_count": 6,
   "metadata": {
    "id": "deEQ5j5l3rns"
   },
   "outputs": [
    {
     "name": "stdout",
     "output_type": "stream",
     "text": [
      "args: Namespace(model='informer', data='ETTh1', root_path='./data/ETT/', data_path='ETTh1.csv', features='S', target='OT', freq='h', checkpoints='checkpoints/ETTh1_sample30_window30', seq_len=96, label_len=48, pred_len=24, enc_in=1, dec_in=1, c_out=1, d_model=512, n_heads=8, e_layers=1, d_layers=1, s_layers=[3, 2, 1], d_ff=2048, factor=5, padding=0, distil=True, dropout=0.3, attn='prob', embed='timeF', activation='gelu', output_attention=False, do_predict=False, mix=True, cols=None, num_workers=0, itr=2, train_epochs=6, batch_size=2, patience=3, learning_rate=0.0001, des='test', loss='mse', lradj='type1', use_amp=False, inverse=False, use_gpu=False, gpu=0, use_multi_gpu=False, devices='0,1,2,3', detail_freq='h')\n",
      "testing: informer\n"
     ]
    },
    {
     "name": "stderr",
     "output_type": "stream",
     "text": [
      "  0%|          | 0/1428 [00:00<?, ?it/s]"
     ]
    },
    {
     "name": "stdout",
     "output_type": "stream",
     "text": [
      "2\n",
      "[]\n",
      "[0, 1]\n"
     ]
    },
    {
     "name": "stderr",
     "output_type": "stream",
     "text": [
      "  0%|          | 0/1428 [00:04<?, ?it/s]\n"
     ]
    },
    {
     "name": "stdout",
     "output_type": "stream",
     "text": [
      "{'mse': 2.4509563667488012, 'nll': 3542520.571500522}\n",
      "testing: moment\n"
     ]
    },
    {
     "name": "stderr",
     "output_type": "stream",
     "text": [
      "  0%|          | 0/1428 [00:00<?, ?it/s]"
     ]
    },
    {
     "name": "stdout",
     "output_type": "stream",
     "text": [
      "2\n",
      "[]\n",
      "[0, 1]\n"
     ]
    },
    {
     "name": "stderr",
     "output_type": "stream",
     "text": [
      "  0%|          | 0/1428 [00:03<?, ?it/s]\n"
     ]
    },
    {
     "name": "stdout",
     "output_type": "stream",
     "text": [
      "{'mse': 0.01657331083171773, 'nll': 11.826302061459845}\n",
      "testing: proposed\n"
     ]
    },
    {
     "name": "stderr",
     "output_type": "stream",
     "text": [
      "  0%|          | 0/1428 [00:00<?, ?it/s]"
     ]
    },
    {
     "name": "stdout",
     "output_type": "stream",
     "text": [
      "0\n",
      "[0, 1]\n",
      "[0, 1]\n",
      "0\n",
      "[0, 1]\n",
      "[0, 1]\n",
      "{'mse': 0.7175221952768116, 'nll': 2305.376903813798}\n"
     ]
    },
    {
     "name": "stderr",
     "output_type": "stream",
     "text": [
      "\n"
     ]
    },
    {
     "data": {
      "text/plain": [
       "{'informer': {'mse': 2.4509563667488012, 'nll': 3542520.571500522},\n",
       " 'moment': {'mse': 0.01657331083171773, 'nll': 11.826302061459845},\n",
       " 'proposed': {'mse': 0.7175221952768116, 'nll': 2305.376903813798}}"
      ]
     },
     "execution_count": 6,
     "metadata": {},
     "output_type": "execute_result"
    }
   ],
   "source": [
    "# 予測結果の評価\n",
    "print(\"args:\", args)\n",
    "results = {}\n",
    "\n",
    "for method, model in {\n",
    "    \"informer\": informer_model,\n",
    "    \"moment\": moment_model,\n",
    "    \"proposed\": proposed_model,\n",
    "    \"proposed+moe\": None,\n",
    "}.items():\n",
    "    print(f\"testing: {method}\")\n",
    "    test_dataloader = dataset.to_dataloader(test_dataset, args, \"test\")\n",
    "\n",
    "    y_pred = []\n",
    "    y_true = []\n",
    "    for index, batch in tqdm.tqdm(test_dataloader):\n",
    "        y_pred.append(model.predict_distr(index, batch).detach().tolist())\n",
    "        y_true.append(batch[1][:, -1].squeeze().detach().tolist())\n",
    "        break\n",
    "\n",
    "    y_pred, y_true = np.array(y_pred).reshape(-1, 2), np.array(y_true).flatten()\n",
    "    results[method] = {\n",
    "        \"mse\": evaluate_mse(y_pred, y_true),\n",
    "        \"nll\": evaluate_nll(y_pred, y_true),\n",
    "    }\n",
    "    print(results[method])\n",
    "\n",
    "results"
   ]
  },
  {
   "cell_type": "code",
   "execution_count": 7,
   "metadata": {},
   "outputs": [],
   "source": [
    "pd.DataFrame(results).to_csv(\"results.csv\", index=False)"
   ]
  }
 ],
 "metadata": {
  "colab": {
   "provenance": []
  },
  "kernelspec": {
   "display_name": ".venv",
   "language": "python",
   "name": "python3"
  },
  "language_info": {
   "codemirror_mode": {
    "name": "ipython",
    "version": 3
   },
   "file_extension": ".py",
   "mimetype": "text/x-python",
   "name": "python",
   "nbconvert_exporter": "python",
   "pygments_lexer": "ipython3",
   "version": "3.11.6"
  }
 },
 "nbformat": 4,
 "nbformat_minor": 0
}
