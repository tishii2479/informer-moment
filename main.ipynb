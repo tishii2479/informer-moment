{
 "cells": [
  {
   "cell_type": "code",
   "execution_count": 1,
   "metadata": {
    "id": "Fcd3wr3l3rnn"
   },
   "outputs": [],
   "source": [
    "import argparse\n",
    "import random\n",
    "\n",
    "import numpy as np\n",
    "import torch\n",
    "\n",
    "import config\n",
    "import dataset\n",
    "from informer_model import InformerModel\n",
    "from model import Model\n",
    "from moment_model import MomentModel\n",
    "from propose import ProposedModel\n",
    "from evaluation import evaluate_mse, evaluate_nll"
   ]
  },
  {
   "cell_type": "code",
   "execution_count": 2,
   "metadata": {
    "id": "kHpNHeCC3rnq"
   },
   "outputs": [],
   "source": [
    "def set_seed(seed: int) -> None:\n",
    "    # random\n",
    "    random.seed(seed)\n",
    "\n",
    "    # numpy\n",
    "    np.random.seed(seed)\n",
    "\n",
    "    # pytorch\n",
    "    torch.manual_seed(seed)\n",
    "    torch.cuda.manual_seed_all(seed)\n",
    "    torch.mps.manual_seed(seed)\n",
    "    torch.backends.cudnn.deterministic = True\n",
    "\n",
    "\n",
    "def load_moment_model(args: argparse.Namespace) -> Model:\n",
    "    return MomentModel(param=\"AutonLab/MOMENT-1-large\", pred_len=args.pred_len)\n",
    "\n",
    "\n",
    "def load_informer_model(args: argparse.Namespace) -> Model:\n",
    "    return InformerModel(args, checkpoint_path=\"checkpoints/informer.pth\")\n",
    "\n",
    "\n",
    "def load_proposed_model(moment_model: Model, informer_model: Model,input_size: int,train_dataset: torch.utils.data.Dataset, args: argparse.Namespace) -> Model:\n",
    "    model = ProposedModel(moment_model=moment_model, informer_model=informer_model,input_size=input_size)\n",
    "    model.train(train_dataset=train_dataset,args=args)\n",
    "    torch.save(model, \"checkpoints/proposed_model.pkt\")\n",
    "    return model"
   ]
  },
  {
   "cell_type": "code",
   "execution_count": 3,
   "metadata": {
    "id": "bcEvNf_e3rnr"
   },
   "outputs": [],
   "source": [
    "set_seed(0)\n",
    "\n",
    "args = config.ARGS\n",
    "train_dataset, test_dataset = dataset.load_dataset(args=args)\n",
    "input_size = args.seq_len\n",
    "moment_model = load_moment_model(args=args)\n",
    "informer_model = load_informer_model(args=args)"
   ]
  },
  {
   "cell_type": "code",
   "execution_count": 4,
   "metadata": {},
   "outputs": [
    {
     "name": "stderr",
     "output_type": "stream",
     "text": [
      "100%|██████████| 89/89 [03:31<00:00,  2.38s/it]\n"
     ]
    },
    {
     "name": "stdout",
     "output_type": "stream",
     "text": [
      "Epoch [1/5], Loss: 0.0439\n"
     ]
    },
    {
     "name": "stderr",
     "output_type": "stream",
     "text": [
      "100%|██████████| 89/89 [03:34<00:00,  2.41s/it]\n"
     ]
    },
    {
     "name": "stdout",
     "output_type": "stream",
     "text": [
      "Epoch [2/5], Loss: 0.0791\n"
     ]
    },
    {
     "name": "stderr",
     "output_type": "stream",
     "text": [
      "100%|██████████| 89/89 [03:33<00:00,  2.40s/it]\n"
     ]
    },
    {
     "name": "stdout",
     "output_type": "stream",
     "text": [
      "Epoch [3/5], Loss: 0.0366\n"
     ]
    },
    {
     "name": "stderr",
     "output_type": "stream",
     "text": [
      "100%|██████████| 89/89 [03:33<00:00,  2.40s/it]\n"
     ]
    },
    {
     "name": "stdout",
     "output_type": "stream",
     "text": [
      "Epoch [4/5], Loss: 0.0415\n"
     ]
    },
    {
     "name": "stderr",
     "output_type": "stream",
     "text": [
      "100%|██████████| 89/89 [03:33<00:00,  2.40s/it]\n"
     ]
    },
    {
     "name": "stdout",
     "output_type": "stream",
     "text": [
      "Epoch [5/5], Loss: 0.0560\n"
     ]
    }
   ],
   "source": [
    "proposed_model = load_proposed_model(moment_model, informer_model,input_size,test_dataset,args)"
   ]
  },
  {
   "cell_type": "code",
   "execution_count": 5,
   "metadata": {
    "id": "deEQ5j5l3rns"
   },
   "outputs": [
    {
     "name": "stdout",
     "output_type": "stream",
     "text": [
      "testing: informer\n",
      "0/89 {'MSE': 0.017435673018273753, 'NLL': 26.554210545591097}\n",
      "1/89 {'MSE': 0.08738881193743193, 'NLL': 443.7915241770397}\n",
      "2/89 {'MSE': 0.10775600637984722, 'NLL': 508.95950680923016}\n",
      "3/89 {'MSE': 0.1803269386162652, 'NLL': 756.2014225955968}\n",
      "4/89 {'MSE': 0.2184513515748902, 'NLL': 786.8236348559341}\n",
      "5/89 {'MSE': 0.3618925743051604, 'NLL': 930.5890707085526}\n",
      "6/89 {'MSE': 0.3704380375519001, 'NLL': 935.6550566002317}\n",
      "7/89 {'MSE': 0.6408608834926025, 'NLL': 1462.7270418057924}\n",
      "8/89 {'MSE': 0.6597925686844112, 'NLL': 1470.7574268235842}\n",
      "9/89 {'MSE': 0.8096525242477083, 'NLL': 1766.2344990566226}\n",
      "10/89 {'MSE': 0.8759173990604965, 'NLL': 1797.1450130382336}\n",
      "{'MSE': 0.08759173990604965, 'NLL': 179.71450130382337}\n",
      "testing: moment\n",
      "0/89 {'MSE': 0.03261865224844104, 'NLL': 97.3054442213755}\n",
      "1/89 {'MSE': 0.053694206379893306, 'NLL': 217.6669622268032}\n",
      "2/89 {'MSE': 0.07836171865290008, 'NLL': 282.5721716812789}\n",
      "3/89 {'MSE': 0.13927535059647367, 'NLL': 495.16878638207214}\n",
      "4/89 {'MSE': 0.2764548673797553, 'NLL': 871.34580167287}\n",
      "5/89 {'MSE': 0.33468841206696315, 'NLL': 1025.3760462201722}\n",
      "6/89 {'MSE': 0.41400928353495003, 'NLL': 1129.2055087476613}\n",
      "7/89 {'MSE': 0.4562682062719896, 'NLL': 1362.2460715335683}\n",
      "8/89 {'MSE': 0.5856607197311854, 'NLL': 1615.758346585381}\n",
      "9/89 {'MSE': 0.6175343180525413, 'NLL': 1745.6573014607911}\n",
      "10/89 {'MSE': 0.6591766627712266, 'NLL': 1913.535589814859}\n",
      "{'MSE': 0.06591766627712266, 'NLL': 191.3535589814859}\n",
      "testing: proposed\n",
      "0/89 {'MSE': 0.01664437699634997, 'NLL': 27.625236718928576}\n",
      "1/89 {'MSE': 0.05182956729439463, 'NLL': 92.77710873664968}\n",
      "2/89 {'MSE': 0.0731411234071862, 'NLL': 141.86622196115266}\n",
      "3/89 {'MSE': 0.1370359336602039, 'NLL': 252.33199316547962}\n",
      "4/89 {'MSE': 0.17995438883840154, 'NLL': 301.93048375964975}\n",
      "5/89 {'MSE': 0.23305810851995137, 'NLL': 356.2601275160571}\n",
      "6/89 {'MSE': 0.27385054734620823, 'NLL': 398.07792055141846}\n",
      "7/89 {'MSE': 0.35777756863973503, 'NLL': 626.1592545181743}\n",
      "8/89 {'MSE': 0.4210695657434975, 'NLL': 734.0548979399582}\n",
      "9/89 {'MSE': 0.4468692653226723, 'NLL': 768.108750474089}\n",
      "10/89 {'MSE': 0.4910508294613394, 'NLL': 810.1831573282499}\n",
      "{'MSE': 0.049105082946133936, 'NLL': 81.01831573282499}\n"
     ]
    },
    {
     "data": {
      "text/plain": [
       "{'informer': {'MSE': 0.08759173990604965, 'NLL': 179.71450130382337},\n",
       " 'moment': {'MSE': 0.06591766627712266, 'NLL': 191.3535589814859},\n",
       " 'proposed': {'MSE': 0.049105082946133936, 'NLL': 81.01831573282499}}"
      ]
     },
     "execution_count": 5,
     "metadata": {},
     "output_type": "execute_result"
    }
   ],
   "source": [
    "# 予測結果の評価\n",
    "results = {}\n",
    "\n",
    "for method, model in {\n",
    "    \"informer\": informer_model,\n",
    "    \"moment\": moment_model,\n",
    "    \"proposed\": proposed_model,\n",
    "}.items():\n",
    "    print(f\"testing: {method}\")\n",
    "    test_dataloader = dataset.to_dataloader(test_dataset, args, \"test\")\n",
    "    \n",
    "    mse = 0\n",
    "    nll = 0\n",
    "\n",
    "    k = 10 # 評価するバッチ数の上限、ちゃんと評価するときは十分大きい値に設定する\n",
    "\n",
    "    for i, batch in enumerate(test_dataloader):\n",
    "        _, batch_y, _, _ = batch\n",
    "        Y_pred = model.predict_distr(batch).detach().numpy()\n",
    "        y_true = batch_y[:, -1].squeeze().detach().numpy()\n",
    "\n",
    "        mse += evaluate_mse(Y_pred, y_true)\n",
    "        nll += evaluate_nll(Y_pred, y_true)\n",
    "\n",
    "        print(f\"{i}/{len(test_dataloader)}\", {\"MSE\": mse/(i+1), \"NLL\": nll/(i+1)})\n",
    "\n",
    "        if i >= k:\n",
    "            break\n",
    "\n",
    "    mse /= min(k, len(test_dataloader))\n",
    "    nll /= min(k, len(test_dataloader))\n",
    "\n",
    "    results[method] = {\"MSE\": mse, \"NLL\": nll}\n",
    "    print(results[method])\n",
    "\n",
    "results"
   ]
  },
  {
   "cell_type": "code",
   "execution_count": 6,
   "metadata": {},
   "outputs": [],
   "source": [
    "import pandas as pd\n",
    "\n",
    "pd.DataFrame(results).to_csv(\"results.csv\", index=False)"
   ]
  }
 ],
 "metadata": {
  "colab": {
   "provenance": []
  },
  "kernelspec": {
   "display_name": ".venv",
   "language": "python",
   "name": "python3"
  },
  "language_info": {
   "codemirror_mode": {
    "name": "ipython",
    "version": 3
   },
   "file_extension": ".py",
   "mimetype": "text/x-python",
   "name": "python",
   "nbconvert_exporter": "python",
   "pygments_lexer": "ipython3",
   "version": "3.10.0rc2"
  }
 },
 "nbformat": 4,
 "nbformat_minor": 0
}
