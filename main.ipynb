{
 "cells": [
  {
   "cell_type": "code",
   "execution_count": 59,
   "metadata": {},
   "outputs": [],
   "source": [
    "\"\"\"\n",
    "実行時に設定するパラメータ\n",
    "\"\"\"\n",
    "\n",
    "# Informerの学習パラメータ\n",
    "# Informerを学習するときに使用したパラメータの文字列をここで代入する\n",
    "# ARG_STR = \"--model informer --data ETTh1 --attn prob --freq h --features S  --e_layers 1  --d_layers 1 --dropout 0.3 --learning_rate 0.0001 --embed timeF --use_y_pred_cache --proposed_lmda 0.5 --proposed_moe_lr=0.1 --proposed_moe_weight_decay=0.01 --proposed_moe_epochs=10\"\n",
    "ARG_STR = \"--model informer --data NaturalGas --root_path './Informer2020/data/NaturalGas/' --data_path combined_data.csv --features S --attn prob --freq h --e_layers 1  --d_layers 1 --dropout 0.3 --learning_rate 0.0001 --embed timeF --use_y_pred_cache --proposed_lmda 0.2 --proposed_moe_lr=0.01 --proposed_moe_weight_decay=0.01 --proposed_moe_epochs=10\"\n",
    "\n",
    "Y_PRED_PATH_PLACEHOLDER = \"checkpoints/{method}_{data}_y_pred.pkl\""
   ]
  },
  {
   "cell_type": "code",
   "execution_count": 60,
   "metadata": {
    "id": "Fcd3wr3l3rnn"
   },
   "outputs": [],
   "source": [
    "import sys\n",
    "\n",
    "sys.path.append(\"Informer2020\")\n",
    "\n",
    "from typing import Optional\n",
    "import pickle\n",
    "import argparse\n",
    "import random\n",
    "import tqdm\n",
    "import numpy as np\n",
    "import torch\n",
    "import pandas as pd\n",
    "import os\n",
    "\n",
    "import dataset\n",
    "from model.informer_model import InformerModel\n",
    "from model.model import Model\n",
    "from model.moment_model import MomentModel\n",
    "from propose import ProposedModelWithMoe, ProposedModel\n",
    "from evaluation import evaluate_mse, evaluate_nll\n",
    "\n",
    "from main_informer import parse_args"
   ]
  },
  {
   "cell_type": "code",
   "execution_count": 61,
   "metadata": {
    "id": "kHpNHeCC3rnq"
   },
   "outputs": [],
   "source": [
    "def set_seed(seed: int) -> None:\n",
    "    # random\n",
    "    random.seed(seed)\n",
    "\n",
    "    # numpy\n",
    "    np.random.seed(seed)\n",
    "\n",
    "    # pytorch\n",
    "    torch.manual_seed(seed)\n",
    "    torch.cuda.manual_seed_all(seed)\n",
    "    torch.mps.manual_seed(seed)\n",
    "    torch.backends.cudnn.deterministic = True\n",
    "\n",
    "\n",
    "def load_moment_model(\n",
    "    args: argparse.Namespace, y_pred_path: Optional[str] = None\n",
    ") -> Model:\n",
    "    return MomentModel(\n",
    "        param=\"AutonLab/MOMENT-1-large\", pred_len=args.pred_len, y_pred_path=y_pred_path\n",
    "    )\n",
    "\n",
    "\n",
    "def load_moment_model_finetuned(\n",
    "    args: argparse.Namespace,\n",
    "    train_dataset: torch.utils.data.Dataset,\n",
    "    valid_dataset: torch.utils.data.Dataset,\n",
    ") -> Model:\n",
    "    model: MomentModel = load_moment_model(args=args)\n",
    "    model.fine_tuning(\n",
    "        train_dataset=train_dataset, valid_dataset=valid_dataset, args=args\n",
    "    )\n",
    "    return model\n",
    "\n",
    "\n",
    "def load_informer_model(\n",
    "    args: argparse.Namespace, use_saved_model: bool = False, y_pred_path: Optional[str] = None\n",
    ") -> Model:\n",
    "    return InformerModel(args=args, use_saved_model=use_saved_model, y_pred_path=y_pred_path)\n",
    "\n",
    "\n",
    "def load_proposed_model(moment_model: Model, informer_model: Model) -> Model:\n",
    "    model = ProposedModel(moment_model=moment_model, informer_model=informer_model)\n",
    "    return model\n",
    "\n",
    "\n",
    "def load_proposed_model_with_moe(\n",
    "    moment_model: Model,\n",
    "    informer_model: Model,\n",
    "    input_size: int,\n",
    "    train_dataset: torch.utils.data.Dataset,\n",
    "    valid_dataset: torch.utils.data.Dataset,\n",
    "    args: argparse.Namespace,\n",
    "    lr: float,\n",
    "    weight_decay: float,\n",
    ") -> Model:\n",
    "    model = ProposedModelWithMoe(\n",
    "        moment_model=moment_model,\n",
    "        informer_model=informer_model,\n",
    "        input_size=input_size,\n",
    "    )\n",
    "    model.train(\n",
    "        train_dataset=train_dataset,\n",
    "        valid_dataset=valid_dataset,\n",
    "        args=args,\n",
    "        lr=lr,\n",
    "        weight_decay=weight_decay,\n",
    "    )\n",
    "    return model"
   ]
  },
  {
   "cell_type": "code",
   "execution_count": 62,
   "metadata": {
    "id": "bcEvNf_e3rnr"
   },
   "outputs": [
    {
     "name": "stdout",
     "output_type": "stream",
     "text": [
      "args: Namespace(model='informer', data='NaturalGas', root_path='./Informer2020/data/NaturalGas/', data_path='combined_data.csv', features='S', target='actual_wdl_gj', freq='h', checkpoints='checkpoints/NaturalGas_sample30_window30', seq_len=96, label_len=48, pred_len=24, enc_in=1, dec_in=1, c_out=1, d_model=512, n_heads=8, e_layers=1, d_layers=1, s_layers=[3, 2, 1], d_ff=2048, factor=5, padding=0, distil=True, dropout=0.3, attn='prob', embed='timeF', activation='gelu', output_attention=False, do_predict=False, mix=True, cols=None, num_workers=0, itr=2, train_epochs=6, batch_size=32, patience=3, learning_rate=0.0001, des='test', loss='mse', lradj='type1', use_amp=False, inverse=False, use_gpu=False, gpu=0, use_multi_gpu=False, devices='0,1,2,3', use_saved_informer=False, use_y_pred_cache=True, detail_freq='h')\n",
      "[test] self.target actual_wdl_gj\n",
      "[test] cols ['date', 'schedule_interval', 'transmission_id', 'sched_inj_gj', 'sched_wdl_gj', 'price_value', 'administered_price', 'actual_wdl_gj', 'actual_inj_gj']\n",
      "train 6275\n",
      "[test] self.target actual_wdl_gj\n",
      "[test] cols ['date', 'schedule_interval', 'transmission_id', 'sched_inj_gj', 'sched_wdl_gj', 'price_value', 'administered_price', 'actual_wdl_gj', 'actual_inj_gj']\n",
      "val 891\n",
      "[test] self.target actual_wdl_gj\n",
      "[test] cols ['date', 'schedule_interval', 'transmission_id', 'sched_inj_gj', 'sched_wdl_gj', 'price_value', 'administered_price', 'actual_wdl_gj', 'actual_inj_gj']\n",
      "test 1804\n"
     ]
    }
   ],
   "source": [
    "set_seed(0)\n",
    "\n",
    "args = parse_args(ARG_STR)\n",
    "print(\"args:\", args)\n",
    "\n",
    "train_dataset, valid_dataset, test_dataset = dataset.load_dataset(args=args)\n",
    "input_size = args.seq_len\n",
    "\n",
    "moment_model = load_moment_model(\n",
    "    args=args,\n",
    "    y_pred_path=(\n",
    "        Y_PRED_PATH_PLACEHOLDER.format(method=\"moment\", data=args.data)\n",
    "        if args.use_y_pred_cache\n",
    "        else None\n",
    "    ),\n",
    ")\n",
    "informer_model = load_informer_model(\n",
    "    args=args,\n",
    "    use_saved_model=False,\n",
    "    y_pred_path=(\n",
    "        Y_PRED_PATH_PLACEHOLDER.format(method=\"informer\", data=args.data)\n",
    "        if args.use_y_pred_cache\n",
    "        else None\n",
    "    ),\n",
    ")\n",
    "proposed_model = load_proposed_model(moment_model, informer_model)"
   ]
  },
  {
   "cell_type": "code",
   "execution_count": 63,
   "metadata": {},
   "outputs": [
    {
     "name": "stderr",
     "output_type": "stream",
     "text": [
      "100%|██████████| 196/196 [00:00<00:00, 1092.23it/s]\n",
      "100%|██████████| 27/27 [00:00<00:00, 1944.51it/s]\n"
     ]
    },
    {
     "name": "stdout",
     "output_type": "stream",
     "text": [
      "Epoch [1/10], Train Loss: 0.2113, Valid Loss: 0.3311\n"
     ]
    },
    {
     "name": "stderr",
     "output_type": "stream",
     "text": [
      "100%|██████████| 196/196 [00:00<00:00, 1161.61it/s]\n",
      "100%|██████████| 27/27 [00:00<00:00, 1967.89it/s]\n"
     ]
    },
    {
     "name": "stdout",
     "output_type": "stream",
     "text": [
      "Epoch [2/10], Train Loss: 0.2069, Valid Loss: 0.3276\n"
     ]
    },
    {
     "name": "stderr",
     "output_type": "stream",
     "text": [
      "100%|██████████| 196/196 [00:00<00:00, 1126.70it/s]\n",
      "100%|██████████| 27/27 [00:00<00:00, 1936.46it/s]\n"
     ]
    },
    {
     "name": "stdout",
     "output_type": "stream",
     "text": [
      "Epoch [3/10], Train Loss: 0.2056, Valid Loss: 0.3284\n"
     ]
    },
    {
     "name": "stderr",
     "output_type": "stream",
     "text": [
      "100%|██████████| 196/196 [00:00<00:00, 1110.34it/s]\n",
      "100%|██████████| 27/27 [00:00<00:00, 1898.99it/s]\n"
     ]
    },
    {
     "name": "stdout",
     "output_type": "stream",
     "text": [
      "Epoch [4/10], Train Loss: 0.2061, Valid Loss: 0.3268\n"
     ]
    },
    {
     "name": "stderr",
     "output_type": "stream",
     "text": [
      "100%|██████████| 196/196 [00:00<00:00, 1160.88it/s]\n",
      "100%|██████████| 27/27 [00:00<00:00, 2016.17it/s]\n"
     ]
    },
    {
     "name": "stdout",
     "output_type": "stream",
     "text": [
      "Epoch [5/10], Train Loss: 0.2053, Valid Loss: 0.3265\n"
     ]
    },
    {
     "name": "stderr",
     "output_type": "stream",
     "text": [
      "100%|██████████| 196/196 [00:00<00:00, 1185.90it/s]\n",
      "100%|██████████| 27/27 [00:00<00:00, 1907.30it/s]\n"
     ]
    },
    {
     "name": "stdout",
     "output_type": "stream",
     "text": [
      "Epoch [6/10], Train Loss: 0.2051, Valid Loss: 0.3264\n"
     ]
    },
    {
     "name": "stderr",
     "output_type": "stream",
     "text": [
      "100%|██████████| 196/196 [00:00<00:00, 1071.60it/s]\n",
      "100%|██████████| 27/27 [00:00<00:00, 1977.31it/s]\n"
     ]
    },
    {
     "name": "stdout",
     "output_type": "stream",
     "text": [
      "Epoch [7/10], Train Loss: 0.2050, Valid Loss: 0.3264\n"
     ]
    },
    {
     "name": "stderr",
     "output_type": "stream",
     "text": [
      "100%|██████████| 196/196 [00:00<00:00, 1198.44it/s]\n",
      "100%|██████████| 27/27 [00:00<00:00, 1929.96it/s]\n"
     ]
    },
    {
     "name": "stdout",
     "output_type": "stream",
     "text": [
      "Epoch [8/10], Train Loss: 0.2050, Valid Loss: 0.3263\n"
     ]
    },
    {
     "name": "stderr",
     "output_type": "stream",
     "text": [
      "100%|██████████| 196/196 [00:00<00:00, 1148.55it/s]\n",
      "100%|██████████| 27/27 [00:00<00:00, 1966.66it/s]\n"
     ]
    },
    {
     "name": "stdout",
     "output_type": "stream",
     "text": [
      "Epoch [9/10], Train Loss: 0.2049, Valid Loss: 0.3263\n"
     ]
    },
    {
     "name": "stderr",
     "output_type": "stream",
     "text": [
      "100%|██████████| 196/196 [00:00<00:00, 1104.12it/s]\n",
      "100%|██████████| 27/27 [00:00<00:00, 1926.28it/s]"
     ]
    },
    {
     "name": "stdout",
     "output_type": "stream",
     "text": [
      "Epoch [10/10], Train Loss: 0.2049, Valid Loss: 0.3263\n"
     ]
    },
    {
     "name": "stderr",
     "output_type": "stream",
     "text": [
      "\n"
     ]
    }
   ],
   "source": [
    "proposed_model_with_moe = load_proposed_model_with_moe(\n",
    "    moment_model,\n",
    "    informer_model,\n",
    "    input_size,\n",
    "    train_dataset,\n",
    "    valid_dataset,\n",
    "    args,\n",
    "    lr=1e-1 if args.data == \"ETTh1\" else 1e-2,\n",
    "    weight_decay=1e-2,\n",
    ")"
   ]
  },
  {
   "cell_type": "code",
   "execution_count": 64,
   "metadata": {
    "id": "deEQ5j5l3rns"
   },
   "outputs": [
    {
     "name": "stdout",
     "output_type": "stream",
     "text": [
      "args: Namespace(model='informer', data='NaturalGas', root_path='./Informer2020/data/NaturalGas/', data_path='combined_data.csv', features='S', target='actual_wdl_gj', freq='h', checkpoints='checkpoints/NaturalGas_sample30_window30', seq_len=96, label_len=48, pred_len=24, enc_in=1, dec_in=1, c_out=1, d_model=512, n_heads=8, e_layers=1, d_layers=1, s_layers=[3, 2, 1], d_ff=2048, factor=5, padding=0, distil=True, dropout=0.3, attn='prob', embed='timeF', activation='gelu', output_attention=False, do_predict=False, mix=True, cols=None, num_workers=0, itr=2, train_epochs=6, batch_size=32, patience=3, learning_rate=0.0001, des='test', loss='mse', lradj='type1', use_amp=False, inverse=False, use_gpu=False, gpu=0, use_multi_gpu=False, devices='0,1,2,3', use_saved_informer=False, use_y_pred_cache=True, detail_freq='h')\n",
      "testing: informer\n"
     ]
    },
    {
     "name": "stderr",
     "output_type": "stream",
     "text": [
      "100%|██████████| 56/56 [00:00<00:00, 2705.04it/s]\n"
     ]
    },
    {
     "name": "stdout",
     "output_type": "stream",
     "text": [
      "{'mse': 0.2425619520486699, 'nll': 3838.6947371467613}\n",
      "testing: moment\n"
     ]
    },
    {
     "name": "stderr",
     "output_type": "stream",
     "text": [
      "100%|██████████| 56/56 [00:00<00:00, 2723.20it/s]\n"
     ]
    },
    {
     "name": "stdout",
     "output_type": "stream",
     "text": [
      "{'mse': 0.32092184517548183, 'nll': 504.0507907688885}\n",
      "testing: proposed\n"
     ]
    },
    {
     "name": "stderr",
     "output_type": "stream",
     "text": [
      "100%|██████████| 56/56 [00:00<00:00, 2497.78it/s]\n"
     ]
    },
    {
     "name": "stdout",
     "output_type": "stream",
     "text": [
      "{'mse': 0.2424583544034962, 'nll': 291.27698335871935}\n",
      "testing: proposed+moe\n"
     ]
    },
    {
     "name": "stderr",
     "output_type": "stream",
     "text": [
      "100%|██████████| 56/56 [00:00<00:00, 2042.30it/s]\n"
     ]
    },
    {
     "name": "stdout",
     "output_type": "stream",
     "text": [
      "{'mse': 0.23301477171899582, 'nll': 380.05546410874524}\n"
     ]
    },
    {
     "data": {
      "text/plain": [
       "{'informer': {'mse': 0.2425619520486699, 'nll': 3838.6947371467613},\n",
       " 'moment': {'mse': 0.32092184517548183, 'nll': 504.0507907688885},\n",
       " 'proposed': {'mse': 0.2424583544034962, 'nll': 291.27698335871935},\n",
       " 'proposed+moe': {'mse': 0.23301477171899582, 'nll': 380.05546410874524}}"
      ]
     },
     "execution_count": 64,
     "metadata": {},
     "output_type": "execute_result"
    }
   ],
   "source": []
  },
  {
   "cell_type": "code",
   "execution_count": 65,
   "metadata": {},
   "outputs": [
    {
     "data": {
      "text/html": [
       "<div>\n",
       "<style scoped>\n",
       "    .dataframe tbody tr th:only-of-type {\n",
       "        vertical-align: middle;\n",
       "    }\n",
       "\n",
       "    .dataframe tbody tr th {\n",
       "        vertical-align: top;\n",
       "    }\n",
       "\n",
       "    .dataframe thead th {\n",
       "        text-align: right;\n",
       "    }\n",
       "</style>\n",
       "<table border=\"1\" class=\"dataframe\">\n",
       "  <thead>\n",
       "    <tr style=\"text-align: right;\">\n",
       "      <th></th>\n",
       "      <th>informer</th>\n",
       "      <th>moment</th>\n",
       "      <th>proposed</th>\n",
       "      <th>proposed+moe</th>\n",
       "    </tr>\n",
       "  </thead>\n",
       "  <tbody>\n",
       "    <tr>\n",
       "      <th>mse</th>\n",
       "      <td>0.242562</td>\n",
       "      <td>0.320922</td>\n",
       "      <td>0.242458</td>\n",
       "      <td>0.233015</td>\n",
       "    </tr>\n",
       "    <tr>\n",
       "      <th>nll</th>\n",
       "      <td>3838.694737</td>\n",
       "      <td>504.050791</td>\n",
       "      <td>291.276983</td>\n",
       "      <td>380.055464</td>\n",
       "    </tr>\n",
       "  </tbody>\n",
       "</table>\n",
       "</div>"
      ],
      "text/plain": [
       "        informer      moment    proposed  proposed+moe\n",
       "mse     0.242562    0.320922    0.242458      0.233015\n",
       "nll  3838.694737  504.050791  291.276983    380.055464"
      ]
     },
     "execution_count": 65,
     "metadata": {},
     "output_type": "execute_result"
    }
   ],
   "source": [
    "df = pd.DataFrame(results)\n",
    "df.to_csv(f\"data/results_{args.data}.csv\")\n",
    "df"
   ]
  },
  {
   "cell_type": "code",
   "execution_count": 66,
   "metadata": {},
   "outputs": [],
   "source": [
    "with open(f\"checkpoints/informer_{args.data}_y_pred.pkl\", \"wb\") as f:\n",
    "    pickle.dump(informer_model.y_pred, f)\n",
    "\n",
    "with open(f\"checkpoints/moment_{args.data}_y_pred.pkl\", \"wb\") as f:\n",
    "    pickle.dump(moment_model.y_pred, f)"
   ]
  }
 ],
 "metadata": {
  "colab": {
   "provenance": []
  },
  "kernelspec": {
   "display_name": ".venv",
   "language": "python",
   "name": "python3"
  },
  "language_info": {
   "codemirror_mode": {
    "name": "ipython",
    "version": 3
   },
   "file_extension": ".py",
   "mimetype": "text/x-python",
   "name": "python",
   "nbconvert_exporter": "python",
   "pygments_lexer": "ipython3",
   "version": "3.11.6"
  }
 },
 "nbformat": 4,
 "nbformat_minor": 0
}
