{
 "cells": [
  {
   "cell_type": "code",
   "execution_count": 1,
   "metadata": {},
   "outputs": [],
   "source": [
    "\"\"\"\n",
    "実行時に設定するパラメータ\n",
    "\"\"\"\n",
    "\n",
    "# Informerの学習パラメータ\n",
    "# Informerを学習するときに使用したパラメータの文字列をここで代入する\n",
    "ARG_STR = \"--model informer --data ETTh1 --attn prob --freq h --features S --d_model 16 --d_ff 32\"\n",
    "\n",
    "# 学習済みのInformerモデルが保存されているパス\n",
    "INFORMER_CKPT_PATH = \"checkpoints/informer-small.pth\""
   ]
  },
  {
   "cell_type": "code",
   "execution_count": 2,
   "metadata": {
    "id": "Fcd3wr3l3rnn"
   },
   "outputs": [],
   "source": [
    "import sys\n",
    "sys.path.append(\"Informer2020\")\n",
    "\n",
    "import argparse\n",
    "import random\n",
    "import tqdm\n",
    "import numpy as np\n",
    "import torch\n",
    "import pandas as pd\n",
    "\n",
    "import dataset\n",
    "from model.informer_model import InformerModel\n",
    "from model.model import Model\n",
    "from model.moment_model import MomentModel\n",
    "from propose import ProposedModel\n",
    "from evaluation import evaluate_mse, evaluate_nll\n",
    "\n",
    "from main_informer import parse_args"
   ]
  },
  {
   "cell_type": "code",
   "execution_count": 3,
   "metadata": {
    "id": "kHpNHeCC3rnq"
   },
   "outputs": [],
   "source": [
    "def set_seed(seed: int) -> None:\n",
    "    # random\n",
    "    random.seed(seed)\n",
    "\n",
    "    # numpy\n",
    "    np.random.seed(seed)\n",
    "\n",
    "    # pytorch\n",
    "    torch.manual_seed(seed)\n",
    "    torch.cuda.manual_seed_all(seed)\n",
    "    torch.mps.manual_seed(seed)\n",
    "    torch.backends.cudnn.deterministic = True\n",
    "\n",
    "\n",
    "def load_moment_model(args: argparse.Namespace) -> Model:\n",
    "    return MomentModel(param=\"AutonLab/MOMENT-1-large\", pred_len=args.pred_len)\n",
    "\n",
    "\n",
    "def load_informer_model(args: argparse.Namespace) -> Model:\n",
    "    return InformerModel(args, checkpoint_path=INFORMER_CKPT_PATH)\n",
    "\n",
    "\n",
    "def load_proposed_model(moment_model: Model, informer_model: Model,input_size: int,train_dataset: torch.utils.data.Dataset, args: argparse.Namespace) -> Model:\n",
    "    model = ProposedModel(moment_model=moment_model, informer_model=informer_model,input_size=input_size)\n",
    "    model.train(train_dataset=train_dataset,args=args)\n",
    "    return model"
   ]
  },
  {
   "cell_type": "code",
   "execution_count": null,
   "metadata": {
    "id": "bcEvNf_e3rnr"
   },
   "outputs": [],
   "source": [
    "set_seed(0)\n",
    "\n",
    "args = parse_args(ARG_STR)\n",
    "print(\"args:\", args)\n",
    "\n",
    "train_dataset, test_dataset = dataset.load_dataset(args=args)\n",
    "input_size = args.seq_len\n",
    "moment_model = load_moment_model(args=args)\n",
    "informer_model = load_informer_model(args=args)"
   ]
  },
  {
   "cell_type": "code",
   "execution_count": 5,
   "metadata": {},
   "outputs": [],
   "source": [
    "proposed_model = load_proposed_model(moment_model, informer_model,input_size,test_dataset,args)"
   ]
  },
  {
   "cell_type": "code",
   "execution_count": null,
   "metadata": {
    "id": "deEQ5j5l3rns"
   },
   "outputs": [],
   "source": [
    "# 予測結果の評価\n",
    "results = {}\n",
    "\n",
    "for method, model in {\n",
    "    \"informer\": informer_model,\n",
    "    \"moment\": moment_model,\n",
    "    \"proposed\": proposed_model,\n",
    "}.items():\n",
    "    print(f\"testing: {method}\")\n",
    "    test_dataloader = dataset.to_dataloader(test_dataset, args, \"test\")\n",
    "\n",
    "    y_pred = []\n",
    "    y_true = []\n",
    "    for batch in tqdm.tqdm(test_dataloader):\n",
    "        y_pred.append(model.predict_distr(batch).detach().tolist())\n",
    "        y_true.append(batch[1][:, -1].squeeze().detach().tolist())\n",
    "\n",
    "    y_pred, y_true = np.array(y_pred).reshape(-1, 2), np.array(y_true).flatten()\n",
    "    results[method] = {\n",
    "        \"mse\": evaluate_mse(y_pred, y_true),\n",
    "        \"nll\": evaluate_nll(y_pred, y_true),\n",
    "    }\n",
    "    print(results[method])\n",
    "\n",
    "    np.save(f\"checkpoints/y_pred_{method}.npy\", y_pred)\n",
    "\n",
    "results"
   ]
  },
  {
   "cell_type": "code",
   "execution_count": null,
   "metadata": {},
   "outputs": [],
   "source": [
    "pd.DataFrame(results).to_csv(\"results.csv\", index=False)"
   ]
  },
  {
   "cell_type": "code",
   "execution_count": null,
   "metadata": {},
   "outputs": [],
   "source": []
  }
 ],
 "metadata": {
  "colab": {
   "provenance": []
  },
  "kernelspec": {
   "display_name": ".venv",
   "language": "python",
   "name": "python3"
  },
  "language_info": {
   "codemirror_mode": {
    "name": "ipython",
    "version": 3
   },
   "file_extension": ".py",
   "mimetype": "text/x-python",
   "name": "python",
   "nbconvert_exporter": "python",
   "pygments_lexer": "ipython3",
   "version": "3.11.6"
  }
 },
 "nbformat": 4,
 "nbformat_minor": 0
}
