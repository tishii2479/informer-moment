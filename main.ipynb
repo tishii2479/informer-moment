{
 "cells": [
  {
   "cell_type": "code",
   "execution_count": 1,
   "metadata": {
    "id": "Fcd3wr3l3rnn"
   },
   "outputs": [],
   "source": [
    "import argparse\n",
    "import random\n",
    "import tqdm\n",
    "import numpy as np\n",
    "import torch\n",
    "\n",
    "import config\n",
    "import dataset\n",
    "from informer_model import InformerModel\n",
    "from model import Model\n",
    "from moment_model import MomentModel\n",
    "from propose import ProposedModel\n",
    "from evaluation import evaluate_mse, evaluate_nll"
   ]
  },
  {
   "cell_type": "code",
   "execution_count": 2,
   "metadata": {
    "id": "kHpNHeCC3rnq"
   },
   "outputs": [],
   "source": [
    "def set_seed(seed: int) -> None:\n",
    "    # random\n",
    "    random.seed(seed)\n",
    "\n",
    "    # numpy\n",
    "    np.random.seed(seed)\n",
    "\n",
    "    # pytorch\n",
    "    torch.manual_seed(seed)\n",
    "    torch.cuda.manual_seed_all(seed)\n",
    "    torch.mps.manual_seed(seed)\n",
    "    torch.backends.cudnn.deterministic = True\n",
    "\n",
    "\n",
    "def load_moment_model(args: argparse.Namespace) -> Model:\n",
    "    return MomentModel(param=\"AutonLab/MOMENT-1-large\", pred_len=args.pred_len)\n",
    "\n",
    "\n",
    "def load_informer_model(args: argparse.Namespace) -> Model:\n",
    "    return InformerModel(args, checkpoint_path=\"checkpoints/informer2.pth\")\n",
    "\n",
    "\n",
    "def load_proposed_model(moment_model: Model, informer_model: Model,input_size: int,train_dataset: torch.utils.data.Dataset, args: argparse.Namespace) -> Model:\n",
    "    model = ProposedModel(moment_model=moment_model, informer_model=informer_model,input_size=input_size)\n",
    "    model.train(train_dataset=train_dataset,args=args)\n",
    "    torch.save(model, \"checkpoints/proposed_model.pkt\")\n",
    "    return model"
   ]
  },
  {
   "cell_type": "code",
   "execution_count": 3,
   "metadata": {
    "id": "bcEvNf_e3rnr"
   },
   "outputs": [],
   "source": [
    "set_seed(0)\n",
    "\n",
    "args = config.ARGS\n",
    "train_dataset, test_dataset = dataset.load_dataset(args=args)\n",
    "input_size = args.seq_len\n",
    "moment_model = load_moment_model(args=args)\n",
    "informer_model = load_informer_model(args=args)"
   ]
  },
  {
   "cell_type": "code",
   "execution_count": 4,
   "metadata": {},
   "outputs": [
    {
     "name": "stderr",
     "output_type": "stream",
     "text": [
      "100%|██████████| 89/89 [03:27<00:00,  2.34s/it]\n"
     ]
    },
    {
     "name": "stdout",
     "output_type": "stream",
     "text": [
      "Epoch [1/1], Loss: 0.0611\n"
     ]
    }
   ],
   "source": [
    "proposed_model = load_proposed_model(moment_model, informer_model,input_size,test_dataset,args)"
   ]
  },
  {
   "cell_type": "code",
   "execution_count": 5,
   "metadata": {
    "id": "deEQ5j5l3rns"
   },
   "outputs": [
    {
     "name": "stdout",
     "output_type": "stream",
     "text": [
      "testing: informer\n"
     ]
    },
    {
     "name": "stderr",
     "output_type": "stream",
     "text": [
      "100%|██████████| 89/89 [02:35<00:00,  1.75s/it]\n"
     ]
    },
    {
     "name": "stdout",
     "output_type": "stream",
     "text": [
      "{'mse': 0.09626331544299449, 'nll': 16558.14542084187}\n",
      "testing: moment\n"
     ]
    },
    {
     "name": "stderr",
     "output_type": "stream",
     "text": [
      "100%|██████████| 89/89 [39:13<00:00, 26.45s/it]\n"
     ]
    },
    {
     "name": "stdout",
     "output_type": "stream",
     "text": [
      "{'mse': 0.0734385307363973, 'nll': 1390.2025889021575}\n",
      "testing: proposed\n"
     ]
    },
    {
     "name": "stderr",
     "output_type": "stream",
     "text": [
      "100%|██████████| 89/89 [42:32<00:00, 28.68s/it]"
     ]
    },
    {
     "name": "stdout",
     "output_type": "stream",
     "text": [
      "{'mse': 0.059914489442363175, 'nll': 995.2847888361615}\n"
     ]
    },
    {
     "name": "stderr",
     "output_type": "stream",
     "text": [
      "\n"
     ]
    },
    {
     "data": {
      "text/plain": [
       "{'informer': {'mse': 0.09626331544299449, 'nll': 16558.14542084187},\n",
       " 'moment': {'mse': 0.0734385307363973, 'nll': 1390.2025889021575},\n",
       " 'proposed': {'mse': 0.059914489442363175, 'nll': 995.2847888361615}}"
      ]
     },
     "execution_count": 5,
     "metadata": {},
     "output_type": "execute_result"
    }
   ],
   "source": [
    "# 予測結果の評価\n",
    "results = {}\n",
    "\n",
    "for method, model in {\n",
    "    \"informer\": informer_model,\n",
    "    \"moment\": moment_model,\n",
    "    \"proposed\": proposed_model,\n",
    "}.items():\n",
    "    print(f\"testing: {method}\")\n",
    "    test_dataloader = dataset.to_dataloader(test_dataset, args, \"test\")\n",
    "    \n",
    "    mse = 0\n",
    "    nll = 0\n",
    "    batch_limit = 100 # 評価するバッチ数の上限、ちゃんと評価するときは十分大きい値に設定する\n",
    "\n",
    "    y_pred = []\n",
    "    y_true = []\n",
    "    for batch in tqdm.tqdm(test_dataloader):\n",
    "        y_pred.append(model.predict_distr(batch).detach().tolist())\n",
    "        y_true.append(batch[1][:, -1].squeeze().detach().tolist())\n",
    "\n",
    "    y_pred, y_true = np.array(y_pred).reshape(-1, 2), np.array(y_true).flatten()\n",
    "    results[method] = {\n",
    "        \"mse\": evaluate_mse(y_pred, y_true),\n",
    "        \"nll\": evaluate_nll(y_pred, y_true),\n",
    "    }\n",
    "    print(results[method])\n",
    "\n",
    "    np.save(f\"checkpoints/y_pred_{method}.npy\", y_pred)\n",
    "results"
   ]
  },
  {
   "cell_type": "code",
   "execution_count": null,
   "metadata": {},
   "outputs": [
    {
     "ename": "",
     "evalue": "",
     "output_type": "error",
     "traceback": [
      "\u001b[1;31m現在のセルまたは前のセルでコードを実行中に、カーネル (Kernel) がクラッシュしました。\n",
      "\u001b[1;31mエラーの原因を特定するには、セル内のコードを確認してください。\n",
      "\u001b[1;31m詳細については<a href='https://aka.ms/vscodeJupyterKernelCrash'>こちら</a>をクリックします。\n",
      "\u001b[1;31m詳細については、Jupyter <a href='command:jupyter.viewOutput'>ログ</a> を参照してください。"
     ]
    }
   ],
   "source": [
    "import pandas as pd\n",
    "\n",
    "pd.DataFrame(results).to_csv(\"results.csv\", index=False)"
   ]
  }
 ],
 "metadata": {
  "colab": {
   "provenance": []
  },
  "kernelspec": {
   "display_name": ".venv",
   "language": "python",
   "name": "python3"
  },
  "language_info": {
   "codemirror_mode": {
    "name": "ipython",
    "version": 3
   },
   "file_extension": ".py",
   "mimetype": "text/x-python",
   "name": "python",
   "nbconvert_exporter": "python",
   "pygments_lexer": "ipython3",
   "version": "3.10.0"
  }
 },
 "nbformat": 4,
 "nbformat_minor": 0
}
