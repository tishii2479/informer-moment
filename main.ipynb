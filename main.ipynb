{
 "cells": [
  {
   "cell_type": "code",
   "execution_count": 1,
   "metadata": {
    "id": "Fcd3wr3l3rnn"
   },
   "outputs": [],
   "source": [
    "import argparse\n",
    "import random\n",
    "\n",
    "import numpy as np\n",
    "import torch\n",
    "\n",
    "import config\n",
    "import dataset\n",
    "from informer_model import InformerModel\n",
    "from model import Model\n",
    "from moment_model import MomentModel\n",
    "from propose import ProposedModel"
   ]
  },
  {
   "cell_type": "code",
   "execution_count": 2,
   "metadata": {
    "id": "kHpNHeCC3rnq"
   },
   "outputs": [],
   "source": [
    "def set_seed(seed: int) -> None:\n",
    "    # random\n",
    "    random.seed(seed)\n",
    "\n",
    "    # numpy\n",
    "    np.random.seed(seed)\n",
    "\n",
    "    # pytorch\n",
    "    torch.manual_seed(seed)\n",
    "    torch.cuda.manual_seed_all(seed)\n",
    "    torch.mps.manual_seed(seed)\n",
    "    torch.backends.cudnn.deterministic = True\n",
    "\n",
    "\n",
    "def load_moment_model(args: argparse.Namespace) -> Model:\n",
    "    return MomentModel(param=\"AutonLab/MOMENT-1-large\", pred_len=args.pred_len)\n",
    "\n",
    "\n",
    "def load_informer_model(args: argparse.Namespace) -> Model:\n",
    "    return InformerModel(args, checkpoint_path=\"checkpoints/informer.pth\")\n",
    "\n",
    "\n",
    "def load_proposed_model(moment_model: Model, informer_model: Model) -> Model:\n",
    "    return ProposedModel(moment_model=moment_model, informer_model=informer_model)"
   ]
  },
  {
   "cell_type": "code",
   "execution_count": 3,
   "metadata": {
    "id": "bcEvNf_e3rnr"
   },
   "outputs": [
    {
     "name": "stderr",
     "output_type": "stream",
     "text": [
      "config.json: 100%|██████████| 951/951 [00:00<?, ?B/s] \n",
      "pytorch_model.bin: 100%|██████████| 1.39G/1.39G [02:00<00:00, 11.5MB/s]\n"
     ]
    }
   ],
   "source": [
    "set_seed(0)\n",
    "\n",
    "args = config.ARGS\n",
    "_, test_dataset = dataset.load_dataset(args=args)\n",
    "\n",
    "moment_model = load_moment_model(args=args)\n",
    "informer_model = load_informer_model(args=args)\n",
    "proposed_model = load_proposed_model(moment_model, informer_model)"
   ]
  },
  {
   "cell_type": "code",
   "execution_count": null,
   "metadata": {
    "id": "deEQ5j5l3rns"
   },
   "outputs": [
    {
     "name": "stdout",
     "output_type": "stream",
     "text": [
      "testing: informer\n",
      "tensor([[-0.9993,  0.0131],\n",
      "        [-0.8792,  0.0356],\n",
      "        [-0.8391,  0.0131],\n",
      "        [-0.9249,  0.0574],\n",
      "        [-0.9220,  0.0342],\n",
      "        [-0.8531,  0.0166],\n",
      "        [-0.9568,  0.0733],\n",
      "        [-0.9650,  0.0272],\n",
      "        [-0.8782,  0.0141],\n",
      "        [-0.9174,  0.0833],\n",
      "        [-0.9460,  0.0301],\n",
      "        [-0.8469,  0.0223],\n",
      "        [-0.8728,  0.0677],\n",
      "        [-0.9321,  0.0235],\n",
      "        [-0.7540,  0.0330],\n",
      "        [-0.6869,  0.0164],\n",
      "        [-0.8550,  0.0182],\n",
      "        [-0.7874,  0.0317],\n",
      "        [-0.7121,  0.0163],\n",
      "        [-0.8474,  0.0353],\n",
      "        [-0.7808,  0.0400],\n",
      "        [-0.7276,  0.0130],\n",
      "        [-0.8566,  0.0563],\n",
      "        [-0.8759,  0.0350],\n",
      "        [-0.8395,  0.0148],\n",
      "        [-0.9142,  0.0700],\n",
      "        [-1.0128,  0.0339],\n",
      "        [-0.9012,  0.0585],\n",
      "        [-0.9868,  0.0539],\n",
      "        [-1.0785,  0.0096],\n",
      "        [-1.0187,  0.0201],\n",
      "        [-1.0386,  0.0123]], grad_fn=<StackBackward0>) tensor([-0.8546, -0.8700, -0.9543, -0.9313, -0.9849, -1.0233, -1.0156, -1.0539,\n",
      "        -1.0693, -1.0539, -1.0309, -0.8623, -0.8930, -0.8623, -0.7090, -0.6477,\n",
      "        -0.6399, -0.6323, -0.5709, -0.6477, -0.7090, -0.7396, -0.8010, -0.8086,\n",
      "        -0.8010, -0.8240, -0.8393, -0.8240, -0.9083, -0.8393, -0.7703, -0.6936],\n",
      "       dtype=torch.float64)\n",
      "testing: moment\n",
      "tensor([[-0.7554,  0.0166],\n",
      "        [-0.7495,  0.0068],\n",
      "        [-0.7755,  0.0072],\n",
      "        [-0.7709,  0.0146],\n",
      "        [-0.7686,  0.0307],\n",
      "        [-0.7428,  0.0393],\n",
      "        [-0.7403,  0.0561],\n",
      "        [-0.7187,  0.0439],\n",
      "        [-0.7241,  0.0332],\n",
      "        [-0.6948,  0.0130],\n",
      "        [-0.6822,  0.0110],\n",
      "        [-0.6560,  0.0185],\n",
      "        [-0.6303,  0.0108],\n",
      "        [-0.6223,  0.0041],\n",
      "        [-0.6261,  0.0073],\n",
      "        [-0.6009,  0.0159],\n",
      "        [-0.5963,  0.0078],\n",
      "        [-0.6403,  0.0101],\n",
      "        [-0.6836,  0.0513],\n",
      "        [-0.6858,  0.0119],\n",
      "        [-0.6842,  0.0183],\n",
      "        [-0.7189,  0.0057],\n",
      "        [-0.7448,  0.0132],\n",
      "        [-0.7510,  0.0066],\n",
      "        [-0.7763,  0.0101],\n",
      "        [-0.7543,  0.0179],\n",
      "        [-0.7704,  0.0097],\n",
      "        [-0.7630,  0.0071],\n",
      "        [-0.7650,  0.0062],\n",
      "        [-0.7568,  0.0195],\n",
      "        [-0.7943,  0.0070],\n",
      "        [-0.7775,  0.0091]], grad_fn=<StackBackward0>) tensor([-0.8546, -0.8700, -0.9543, -0.9313, -0.9849, -1.0233, -1.0156, -1.0539,\n",
      "        -1.0693, -1.0539, -1.0309, -0.8623, -0.8930, -0.8623, -0.7090, -0.6477,\n",
      "        -0.6399, -0.6323, -0.5709, -0.6477, -0.7090, -0.7396, -0.8010, -0.8086,\n",
      "        -0.8010, -0.8240, -0.8393, -0.8240, -0.9083, -0.8393, -0.7703, -0.6936],\n",
      "       dtype=torch.float64)\n",
      "testing: proposed\n",
      "tensor([[-0.8489,  0.0227],\n",
      "        [-0.8265,  0.0249],\n",
      "        [-0.8059,  0.0120],\n",
      "        [-0.8558,  0.0417],\n",
      "        [-0.8592,  0.0279],\n",
      "        [-0.8083,  0.0214],\n",
      "        [-0.8626,  0.0489],\n",
      "        [-0.8517,  0.0249],\n",
      "        [-0.7916,  0.0281],\n",
      "        [-0.8193,  0.0571],\n",
      "        [-0.8253,  0.0231],\n",
      "        [-0.7452,  0.0155],\n",
      "        [-0.7460,  0.0534],\n",
      "        [-0.7886,  0.0187],\n",
      "        [-0.6960,  0.0274],\n",
      "        [-0.6591,  0.0149],\n",
      "        [-0.7467,  0.0219],\n",
      "        [-0.7200,  0.0420],\n",
      "        [-0.6780,  0.0097],\n",
      "        [-0.7777,  0.0363],\n",
      "        [-0.7569,  0.0245],\n",
      "        [-0.7277,  0.0112],\n",
      "        [-0.8065,  0.0380],\n",
      "        [-0.8184,  0.0246],\n",
      "        [-0.7932,  0.0121],\n",
      "        [-0.8126,  0.0426],\n",
      "        [-0.9011,  0.0206],\n",
      "        [-0.8519,  0.0180],\n",
      "        [-0.8680,  0.0256],\n",
      "        [-0.9361,  0.0089],\n",
      "        [-0.8643,  0.0208],\n",
      "        [-0.8438,  0.0098]], grad_fn=<DivBackward0>) tensor([-0.8546, -0.8700, -0.9543, -0.9313, -0.9849, -1.0233, -1.0156, -1.0539,\n",
      "        -1.0693, -1.0539, -1.0309, -0.8623, -0.8930, -0.8623, -0.7090, -0.6477,\n",
      "        -0.6399, -0.6323, -0.5709, -0.6477, -0.7090, -0.7396, -0.8010, -0.8086,\n",
      "        -0.8010, -0.8240, -0.8393, -0.8240, -0.9083, -0.8393, -0.7703, -0.6936],\n",
      "       dtype=torch.float64)\n"
     ]
    }
   ],
   "source": [
    "# 予測結果の評価\n",
    "for method, model in {\n",
    "    \"informer\": informer_model,\n",
    "    \"moment\": moment_model,\n",
    "    \"proposed\": proposed_model,\n",
    "}.items():\n",
    "    print(f\"testing: {method}\")\n",
    "    test_dataloader = dataset.to_dataloader(test_dataset, args, \"test\")\n",
    "\n",
    "    for batch in test_dataloader:\n",
    "        _, batch_y, _, _ = batch\n",
    "        y_true = batch_y[:, -1].squeeze()\n",
    "\n",
    "        # TODO: モデルの予測結果の出力と評価をする"
   ]
  }
 ],
 "metadata": {
  "colab": {
   "provenance": []
  },
  "kernelspec": {
   "display_name": ".venv",
   "language": "python",
   "name": "python3"
  },
  "language_info": {
   "codemirror_mode": {
    "name": "ipython",
    "version": 3
   },
   "file_extension": ".py",
   "mimetype": "text/x-python",
   "name": "python",
   "nbconvert_exporter": "python",
   "pygments_lexer": "ipython3",
   "version": "3.10.0rc2"
  }
 },
 "nbformat": 4,
 "nbformat_minor": 0
}
